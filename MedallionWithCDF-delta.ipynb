{
 "cells": [
  {
   "cell_type": "code",
   "execution_count": 0,
   "metadata": {
    "application/vnd.databricks.v1+cell": {
     "cellMetadata": {},
     "inputWidgets": {},
     "nuid": "ab6a55f2-f96c-4753-8dd3-854890035f93",
     "showTitle": false,
     "title": ""
    }
   },
   "outputs": [],
   "source": [
    "Overview:\n",
    "    \n",
    "This mini project showcases the usage of Delta Lake's Change Data Feed Feature on a Medallion Architecture.\n",
    "Medallion architecture:\n",
    "\n",
    "Bronze: This table has raw data directly from the source\n",
    "Silver: This table feeds on bronz table and all the cleaning/transforming processes take place in this table\n",
    "Gold: This is the final table with the master data tweaked and tailored per the business needs and acts as delta lake table."
   ]
  },
  {
   "cell_type": "code",
   "execution_count": 0,
   "metadata": {
    "application/vnd.databricks.v1+cell": {
     "cellMetadata": {
      "byteLimit": 2048000,
      "implicitDf": true,
      "rowLimit": 10000
     },
     "inputWidgets": {},
     "nuid": "cb12e8c8-f965-43ab-8058-4ced138a03cf",
     "showTitle": true,
     "title": "Creating tables per the Medallion Architecture Bronze, Silver and Gold."
    }
   },
   "outputs": [
    {
     "output_type": "display_data",
     "data": {
      "text/html": [
       "<style scoped>\n",
       "  .table-result-container {\n",
       "    max-height: 300px;\n",
       "    overflow: auto;\n",
       "  }\n",
       "  table, th, td {\n",
       "    border: 1px solid black;\n",
       "    border-collapse: collapse;\n",
       "  }\n",
       "  th, td {\n",
       "    padding: 5px;\n",
       "  }\n",
       "  th {\n",
       "    text-align: left;\n",
       "  }\n",
       "</style><div class='table-result-container'><table class='table-result'><thead style='background-color: white'><tr></tr></thead><tbody></tbody></table></div>"
      ]
     },
     "metadata": {
      "application/vnd.databricks.v1+output": {
       "addedWidgets": {},
       "aggData": [],
       "aggError": "",
       "aggOverflow": false,
       "aggSchema": [],
       "aggSeriesLimitReached": false,
       "aggType": "",
       "arguments": {},
       "columnCustomDisplayInfos": {},
       "data": [],
       "datasetInfos": [],
       "dbfsResultPath": null,
       "isJsonSchema": true,
       "metadata": {},
       "overflow": false,
       "plotOptions": {
        "customPlotOptions": {},
        "displayType": "table",
        "pivotAggregation": null,
        "pivotColumns": null,
        "xColumns": null,
        "yColumns": null
       },
       "removedWidgets": [],
       "schema": [],
       "type": "table"
      }
     },
     "output_type": "display_data"
    }
   ],
   "source": [
    "%sql\n",
    "Create Table bronze_m\n",
    "(date string, stock string, analyst INT, estimated_eps Double)\n",
    "Using Delta\n",
    "TBLProperties (delta.enableChangeDataFeed = true);\n",
    "\n",
    "Create Table silve_m\n",
    "(date string, stock string, analyst INT, estimated_eps Double)\n",
    "Using Delta\n",
    "TBLProperties (delta.enableChangeDataFeed = true);\n",
    "\n",
    "Create Table gold_m\n",
    "(date string, stock string, concensus_eps Double)\n",
    "Using Delta\n",
    "TBLProperties (delta.enableChangeDataFeed = true);"
   ]
  },
  {
   "cell_type": "code",
   "execution_count": 0,
   "metadata": {
    "application/vnd.databricks.v1+cell": {
     "cellMetadata": {
      "byteLimit": 2048000,
      "rowLimit": 10000
     },
     "inputWidgets": {},
     "nuid": "70cddca9-a183-4279-ba43-64f942232c2e",
     "showTitle": true,
     "title": "Initial dataset"
    }
   },
   "outputs": [],
   "source": [
    "df=spark.createDataFrame(\n",
    "    [('3/1/2022','a',1,2.2),\\\n",
    "    ('3/2/2022','a',1,2.2),\\\n",
    "    ('3/3/2022','a',2,2.2),\\\n",
    "    ('3/4/2022','a',3,2.2),\\\n",
    "    ('3/5/2022','a',1,2.2),\\\n",
    "    ('3/6/2022','a',1,2.2)],\n",
    "    ('date','stock','analyst','estimated_eps'))\n",
    "\n",
    "df.createOrReplaceTempView(\"Bronze_m_dataset\")"
   ]
  },
  {
   "cell_type": "code",
   "execution_count": 0,
   "metadata": {
    "application/vnd.databricks.v1+cell": {
     "cellMetadata": {
      "byteLimit": 2048000,
      "implicitDf": true,
      "rowLimit": 10000
     },
     "inputWidgets": {},
     "nuid": "c139d1e8-7d9c-4e81-962f-2b64b5054c76",
     "showTitle": true,
     "title": "Inserting raw dataset as-is into Bronze table"
    }
   },
   "outputs": [
    {
     "output_type": "display_data",
     "data": {
      "text/html": [
       "<style scoped>\n",
       "  .table-result-container {\n",
       "    max-height: 300px;\n",
       "    overflow: auto;\n",
       "  }\n",
       "  table, th, td {\n",
       "    border: 1px solid black;\n",
       "    border-collapse: collapse;\n",
       "  }\n",
       "  th, td {\n",
       "    padding: 5px;\n",
       "  }\n",
       "  th {\n",
       "    text-align: left;\n",
       "  }\n",
       "</style><div class='table-result-container'><table class='table-result'><thead style='background-color: white'><tr><th>num_affected_rows</th><th>num_inserted_rows</th></tr></thead><tbody><tr><td>6</td><td>6</td></tr></tbody></table></div>"
      ]
     },
     "metadata": {
      "application/vnd.databricks.v1+output": {
       "addedWidgets": {},
       "aggData": [],
       "aggError": "",
       "aggOverflow": false,
       "aggSchema": [],
       "aggSeriesLimitReached": false,
       "aggType": "",
       "arguments": {},
       "columnCustomDisplayInfos": {},
       "data": [
        [
         6,
         6
        ]
       ],
       "datasetInfos": [],
       "dbfsResultPath": null,
       "isJsonSchema": true,
       "metadata": {},
       "overflow": false,
       "plotOptions": {
        "customPlotOptions": {},
        "displayType": "table",
        "pivotAggregation": null,
        "pivotColumns": null,
        "xColumns": null,
        "yColumns": null
       },
       "removedWidgets": [],
       "schema": [
        {
         "metadata": "{}",
         "name": "num_affected_rows",
         "type": "\"long\""
        },
        {
         "metadata": "{}",
         "name": "num_inserted_rows",
         "type": "\"long\""
        }
       ],
       "type": "table"
      }
     },
     "output_type": "display_data"
    }
   ],
   "source": [
    "%sql\n",
    "Insert into bronze_m table Bronze_m_dataset"
   ]
  },
  {
   "cell_type": "code",
   "execution_count": 0,
   "metadata": {
    "application/vnd.databricks.v1+cell": {
     "cellMetadata": {
      "byteLimit": 2048000,
      "implicitDf": true,
      "rowLimit": 10000
     },
     "inputWidgets": {},
     "nuid": "c73656dd-2b08-454f-8c79-c07d6943bf53",
     "showTitle": true,
     "title": "Analyzing the delta table changes for version 1 of bronze"
    }
   },
   "outputs": [
    {
     "output_type": "display_data",
     "data": {
      "text/html": [
       "<style scoped>\n",
       "  .table-result-container {\n",
       "    max-height: 300px;\n",
       "    overflow: auto;\n",
       "  }\n",
       "  table, th, td {\n",
       "    border: 1px solid black;\n",
       "    border-collapse: collapse;\n",
       "  }\n",
       "  th, td {\n",
       "    padding: 5px;\n",
       "  }\n",
       "  th {\n",
       "    text-align: left;\n",
       "  }\n",
       "</style><div class='table-result-container'><table class='table-result'><thead style='background-color: white'><tr><th>date</th><th>stock</th><th>analyst</th><th>estimated_eps</th><th>_change_type</th><th>_commit_version</th><th>_commit_timestamp</th></tr></thead><tbody><tr><td>3/3/2022</td><td>a</td><td>2</td><td>2.2</td><td>insert</td><td>1</td><td>2024-02-18T02:07:59.000+0000</td></tr><tr><td>3/1/2022</td><td>a</td><td>1</td><td>2.2</td><td>insert</td><td>1</td><td>2024-02-18T02:07:59.000+0000</td></tr><tr><td>3/4/2022</td><td>a</td><td>3</td><td>2.2</td><td>insert</td><td>1</td><td>2024-02-18T02:07:59.000+0000</td></tr><tr><td>3/6/2022</td><td>a</td><td>1</td><td>2.2</td><td>insert</td><td>1</td><td>2024-02-18T02:07:59.000+0000</td></tr><tr><td>3/5/2022</td><td>a</td><td>1</td><td>2.2</td><td>insert</td><td>1</td><td>2024-02-18T02:07:59.000+0000</td></tr><tr><td>3/2/2022</td><td>a</td><td>1</td><td>2.2</td><td>insert</td><td>1</td><td>2024-02-18T02:07:59.000+0000</td></tr></tbody></table></div>"
      ]
     },
     "metadata": {
      "application/vnd.databricks.v1+output": {
       "addedWidgets": {},
       "aggData": [],
       "aggError": "",
       "aggOverflow": false,
       "aggSchema": [],
       "aggSeriesLimitReached": false,
       "aggType": "",
       "arguments": {},
       "columnCustomDisplayInfos": {},
       "data": [
        [
         "3/3/2022",
         "a",
         2,
         2.2,
         "insert",
         1,
         "2024-02-18T02:07:59.000+0000"
        ],
        [
         "3/1/2022",
         "a",
         1,
         2.2,
         "insert",
         1,
         "2024-02-18T02:07:59.000+0000"
        ],
        [
         "3/4/2022",
         "a",
         3,
         2.2,
         "insert",
         1,
         "2024-02-18T02:07:59.000+0000"
        ],
        [
         "3/6/2022",
         "a",
         1,
         2.2,
         "insert",
         1,
         "2024-02-18T02:07:59.000+0000"
        ],
        [
         "3/5/2022",
         "a",
         1,
         2.2,
         "insert",
         1,
         "2024-02-18T02:07:59.000+0000"
        ],
        [
         "3/2/2022",
         "a",
         1,
         2.2,
         "insert",
         1,
         "2024-02-18T02:07:59.000+0000"
        ]
       ],
       "datasetInfos": [],
       "dbfsResultPath": null,
       "isJsonSchema": true,
       "metadata": {},
       "overflow": false,
       "plotOptions": {
        "customPlotOptions": {},
        "displayType": "table",
        "pivotAggregation": null,
        "pivotColumns": null,
        "xColumns": null,
        "yColumns": null
       },
       "removedWidgets": [],
       "schema": [
        {
         "metadata": "{}",
         "name": "date",
         "type": "\"string\""
        },
        {
         "metadata": "{}",
         "name": "stock",
         "type": "\"string\""
        },
        {
         "metadata": "{}",
         "name": "analyst",
         "type": "\"integer\""
        },
        {
         "metadata": "{}",
         "name": "estimated_eps",
         "type": "\"double\""
        },
        {
         "metadata": "{}",
         "name": "_change_type",
         "type": "\"string\""
        },
        {
         "metadata": "{}",
         "name": "_commit_version",
         "type": "\"long\""
        },
        {
         "metadata": "{}",
         "name": "_commit_timestamp",
         "type": "\"timestamp\""
        }
       ],
       "type": "table"
      }
     },
     "output_type": "display_data"
    }
   ],
   "source": [
    "%sql\n",
    "select * from table_changes('bronze_m',1)"
   ]
  },
  {
   "cell_type": "code",
   "execution_count": 0,
   "metadata": {
    "application/vnd.databricks.v1+cell": {
     "cellMetadata": {
      "byteLimit": 2048000,
      "implicitDf": true,
      "rowLimit": 10000
     },
     "inputWidgets": {},
     "nuid": "647124f6-e4c6-4336-806c-d04646042f38",
     "showTitle": true,
     "title": "Inserting data feed from the Bronze table into Silver. In this specific scenario, no additional cleaning is required"
    }
   },
   "outputs": [
    {
     "output_type": "display_data",
     "data": {
      "text/html": [
       "<style scoped>\n",
       "  .table-result-container {\n",
       "    max-height: 300px;\n",
       "    overflow: auto;\n",
       "  }\n",
       "  table, th, td {\n",
       "    border: 1px solid black;\n",
       "    border-collapse: collapse;\n",
       "  }\n",
       "  th, td {\n",
       "    padding: 5px;\n",
       "  }\n",
       "  th {\n",
       "    text-align: left;\n",
       "  }\n",
       "</style><div class='table-result-container'><table class='table-result'><thead style='background-color: white'><tr><th>num_affected_rows</th><th>num_inserted_rows</th></tr></thead><tbody><tr><td>6</td><td>6</td></tr></tbody></table></div>"
      ]
     },
     "metadata": {
      "application/vnd.databricks.v1+output": {
       "addedWidgets": {},
       "aggData": [],
       "aggError": "",
       "aggOverflow": false,
       "aggSchema": [],
       "aggSeriesLimitReached": false,
       "aggType": "",
       "arguments": {},
       "columnCustomDisplayInfos": {},
       "data": [
        [
         6,
         6
        ]
       ],
       "datasetInfos": [],
       "dbfsResultPath": null,
       "isJsonSchema": true,
       "metadata": {},
       "overflow": false,
       "plotOptions": {
        "customPlotOptions": {},
        "displayType": "table",
        "pivotAggregation": null,
        "pivotColumns": null,
        "xColumns": null,
        "yColumns": null
       },
       "removedWidgets": [],
       "schema": [
        {
         "metadata": "{}",
         "name": "num_affected_rows",
         "type": "\"long\""
        },
        {
         "metadata": "{}",
         "name": "num_inserted_rows",
         "type": "\"long\""
        }
       ],
       "type": "table"
      }
     },
     "output_type": "display_data"
    }
   ],
   "source": [
    "%sql\n",
    "Insert into silve_m\n",
    "select date,stock,analyst,estimated_eps\n",
    "from bronze_m"
   ]
  },
  {
   "cell_type": "code",
   "execution_count": 0,
   "metadata": {
    "application/vnd.databricks.v1+cell": {
     "cellMetadata": {
      "byteLimit": 2048000,
      "implicitDf": true,
      "rowLimit": 10000
     },
     "inputWidgets": {},
     "nuid": "01eff637-e1cc-48a7-8b3d-b268657fbaf2",
     "showTitle": true,
     "title": "Inserting into Gold after calculating average estimation of earnings/share."
    }
   },
   "outputs": [
    {
     "output_type": "display_data",
     "data": {
      "text/html": [
       "<style scoped>\n",
       "  .table-result-container {\n",
       "    max-height: 300px;\n",
       "    overflow: auto;\n",
       "  }\n",
       "  table, th, td {\n",
       "    border: 1px solid black;\n",
       "    border-collapse: collapse;\n",
       "  }\n",
       "  th, td {\n",
       "    padding: 5px;\n",
       "  }\n",
       "  th {\n",
       "    text-align: left;\n",
       "  }\n",
       "</style><div class='table-result-container'><table class='table-result'><thead style='background-color: white'><tr><th>num_affected_rows</th><th>num_inserted_rows</th></tr></thead><tbody><tr><td>6</td><td>6</td></tr></tbody></table></div>"
      ]
     },
     "metadata": {
      "application/vnd.databricks.v1+output": {
       "addedWidgets": {},
       "aggData": [],
       "aggError": "",
       "aggOverflow": false,
       "aggSchema": [],
       "aggSeriesLimitReached": false,
       "aggType": "",
       "arguments": {},
       "columnCustomDisplayInfos": {},
       "data": [
        [
         6,
         6
        ]
       ],
       "datasetInfos": [],
       "dbfsResultPath": null,
       "isJsonSchema": true,
       "metadata": {},
       "overflow": false,
       "plotOptions": {
        "customPlotOptions": {},
        "displayType": "table",
        "pivotAggregation": null,
        "pivotColumns": null,
        "xColumns": null,
        "yColumns": null
       },
       "removedWidgets": [],
       "schema": [
        {
         "metadata": "{}",
         "name": "num_affected_rows",
         "type": "\"long\""
        },
        {
         "metadata": "{}",
         "name": "num_inserted_rows",
         "type": "\"long\""
        }
       ],
       "type": "table"
      }
     },
     "output_type": "display_data"
    }
   ],
   "source": [
    "%sql\n",
    "Insert into gold_m\n",
    "select silve_m.date,silve_m.stock,Avg(estimated_eps) as consensus_eps\n",
    "from silve_m group by silve_m.date,silve_m.stock"
   ]
  },
  {
   "cell_type": "code",
   "execution_count": 0,
   "metadata": {
    "application/vnd.databricks.v1+cell": {
     "cellMetadata": {
      "byteLimit": 2048000,
      "implicitDf": true,
      "rowLimit": 10000
     },
     "inputWidgets": {},
     "nuid": "c56d7fca-6fbe-433d-bb55-b9eae48955ea",
     "showTitle": false,
     "title": ""
    }
   },
   "outputs": [
    {
     "output_type": "display_data",
     "data": {
      "text/html": [
       "<style scoped>\n",
       "  .table-result-container {\n",
       "    max-height: 300px;\n",
       "    overflow: auto;\n",
       "  }\n",
       "  table, th, td {\n",
       "    border: 1px solid black;\n",
       "    border-collapse: collapse;\n",
       "  }\n",
       "  th, td {\n",
       "    padding: 5px;\n",
       "  }\n",
       "  th {\n",
       "    text-align: left;\n",
       "  }\n",
       "</style><div class='table-result-container'><table class='table-result'><thead style='background-color: white'><tr><th>date</th><th>stock</th><th>concensus_eps</th></tr></thead><tbody><tr><td>3/1/2022</td><td>a</td><td>2.2</td></tr><tr><td>3/2/2022</td><td>a</td><td>2.2</td></tr><tr><td>3/3/2022</td><td>a</td><td>2.2</td></tr><tr><td>3/4/2022</td><td>a</td><td>2.2</td></tr><tr><td>3/5/2022</td><td>a</td><td>2.2</td></tr><tr><td>3/6/2022</td><td>a</td><td>2.2</td></tr></tbody></table></div>"
      ]
     },
     "metadata": {
      "application/vnd.databricks.v1+output": {
       "addedWidgets": {},
       "aggData": [],
       "aggError": "",
       "aggOverflow": false,
       "aggSchema": [],
       "aggSeriesLimitReached": false,
       "aggType": "",
       "arguments": {},
       "columnCustomDisplayInfos": {},
       "data": [
        [
         "3/1/2022",
         "a",
         2.2
        ],
        [
         "3/2/2022",
         "a",
         2.2
        ],
        [
         "3/3/2022",
         "a",
         2.2
        ],
        [
         "3/4/2022",
         "a",
         2.2
        ],
        [
         "3/5/2022",
         "a",
         2.2
        ],
        [
         "3/6/2022",
         "a",
         2.2
        ]
       ],
       "datasetInfos": [],
       "dbfsResultPath": null,
       "isJsonSchema": true,
       "metadata": {},
       "overflow": false,
       "plotOptions": {
        "customPlotOptions": {},
        "displayType": "table",
        "pivotAggregation": null,
        "pivotColumns": null,
        "xColumns": null,
        "yColumns": null
       },
       "removedWidgets": [],
       "schema": [
        {
         "metadata": "{}",
         "name": "date",
         "type": "\"string\""
        },
        {
         "metadata": "{}",
         "name": "stock",
         "type": "\"string\""
        },
        {
         "metadata": "{}",
         "name": "concensus_eps",
         "type": "\"double\""
        }
       ],
       "type": "table"
      }
     },
     "output_type": "display_data"
    }
   ],
   "source": [
    "%sql\n",
    "select * from gold_m order by date"
   ]
  },
  {
   "cell_type": "code",
   "execution_count": 0,
   "metadata": {
    "application/vnd.databricks.v1+cell": {
     "cellMetadata": {
      "byteLimit": 2048000,
      "rowLimit": 10000
     },
     "inputWidgets": {},
     "nuid": "f727c065-40d0-405d-95a5-e7b33f247401",
     "showTitle": true,
     "title": "Dataset version 2"
    }
   },
   "outputs": [],
   "source": [
    "df=spark.createDataFrame(\n",
    "    [('3/1/2022','a',1,2.3),\\\n",
    "    ('3/2/2022','a',1,2.5),\\\n",
    "    ('3/3/2022','a',2,2.7),\\\n",
    "    ('3/4/2022','a',3,2.9),\\\n",
    "    ('3/5/2022','a',1,3.1),\\\n",
    "    ('3/6/2022','a',1,3.3)],\n",
    "    ('date','stock','analyst','estimated_eps'))\n",
    "\n",
    "df.createOrReplaceTempView(\"Bronze_n_dataset\")"
   ]
  },
  {
   "cell_type": "code",
   "execution_count": 0,
   "metadata": {
    "application/vnd.databricks.v1+cell": {
     "cellMetadata": {
      "byteLimit": 2048000,
      "implicitDf": true,
      "rowLimit": 10000
     },
     "inputWidgets": {},
     "nuid": "a334120d-25f9-4fa1-a339-e681c2300117",
     "showTitle": false,
     "title": ""
    }
   },
   "outputs": [
    {
     "output_type": "display_data",
     "data": {
      "text/html": [
       "<style scoped>\n",
       "  .table-result-container {\n",
       "    max-height: 300px;\n",
       "    overflow: auto;\n",
       "  }\n",
       "  table, th, td {\n",
       "    border: 1px solid black;\n",
       "    border-collapse: collapse;\n",
       "  }\n",
       "  th, td {\n",
       "    padding: 5px;\n",
       "  }\n",
       "  th {\n",
       "    text-align: left;\n",
       "  }\n",
       "</style><div class='table-result-container'><table class='table-result'><thead style='background-color: white'><tr><th>num_affected_rows</th><th>num_inserted_rows</th></tr></thead><tbody><tr><td>6</td><td>6</td></tr></tbody></table></div>"
      ]
     },
     "metadata": {
      "application/vnd.databricks.v1+output": {
       "addedWidgets": {},
       "aggData": [],
       "aggError": "",
       "aggOverflow": false,
       "aggSchema": [],
       "aggSeriesLimitReached": false,
       "aggType": "",
       "arguments": {},
       "columnCustomDisplayInfos": {},
       "data": [
        [
         6,
         6
        ]
       ],
       "datasetInfos": [],
       "dbfsResultPath": null,
       "isJsonSchema": true,
       "metadata": {},
       "overflow": false,
       "plotOptions": {
        "customPlotOptions": {},
        "displayType": "table",
        "pivotAggregation": null,
        "pivotColumns": null,
        "xColumns": null,
        "yColumns": null
       },
       "removedWidgets": [],
       "schema": [
        {
         "metadata": "{}",
         "name": "num_affected_rows",
         "type": "\"long\""
        },
        {
         "metadata": "{}",
         "name": "num_inserted_rows",
         "type": "\"long\""
        }
       ],
       "type": "table"
      }
     },
     "output_type": "display_data"
    }
   ],
   "source": [
    "%sql\n",
    "Insert into bronze_m table Bronze_n_dataset"
   ]
  },
  {
   "cell_type": "code",
   "execution_count": 0,
   "metadata": {
    "application/vnd.databricks.v1+cell": {
     "cellMetadata": {
      "byteLimit": 2048000,
      "implicitDf": true,
      "rowLimit": 10000
     },
     "inputWidgets": {},
     "nuid": "f33e34f9-89c9-41b7-b27c-21e688b45936",
     "showTitle": false,
     "title": ""
    }
   },
   "outputs": [
    {
     "output_type": "display_data",
     "data": {
      "text/html": [
       "<style scoped>\n",
       "  .table-result-container {\n",
       "    max-height: 300px;\n",
       "    overflow: auto;\n",
       "  }\n",
       "  table, th, td {\n",
       "    border: 1px solid black;\n",
       "    border-collapse: collapse;\n",
       "  }\n",
       "  th, td {\n",
       "    padding: 5px;\n",
       "  }\n",
       "  th {\n",
       "    text-align: left;\n",
       "  }\n",
       "</style><div class='table-result-container'><table class='table-result'><thead style='background-color: white'><tr><th>date</th><th>stock</th><th>analyst</th><th>estimated_eps</th><th>_change_type</th><th>_commit_version</th><th>_commit_timestamp</th></tr></thead><tbody><tr><td>3/1/2022</td><td>a</td><td>1</td><td>2.2</td><td>update_preimage</td><td>2</td><td>2024-02-18T02:27:47.000+0000</td></tr><tr><td>3/1/2022</td><td>a</td><td>1</td><td>2.3</td><td>update_postimage</td><td>2</td><td>2024-02-18T02:27:47.000+0000</td></tr><tr><td>3/2/2022</td><td>a</td><td>1</td><td>2.2</td><td>update_preimage</td><td>2</td><td>2024-02-18T02:27:47.000+0000</td></tr><tr><td>3/2/2022</td><td>a</td><td>1</td><td>2.5</td><td>update_postimage</td><td>2</td><td>2024-02-18T02:27:47.000+0000</td></tr><tr><td>3/3/2022</td><td>a</td><td>2</td><td>2.2</td><td>update_preimage</td><td>2</td><td>2024-02-18T02:27:47.000+0000</td></tr><tr><td>3/3/2022</td><td>a</td><td>2</td><td>2.7</td><td>update_postimage</td><td>2</td><td>2024-02-18T02:27:47.000+0000</td></tr><tr><td>3/4/2022</td><td>a</td><td>3</td><td>2.2</td><td>update_preimage</td><td>2</td><td>2024-02-18T02:27:47.000+0000</td></tr><tr><td>3/4/2022</td><td>a</td><td>3</td><td>2.9</td><td>update_postimage</td><td>2</td><td>2024-02-18T02:27:47.000+0000</td></tr><tr><td>3/5/2022</td><td>a</td><td>1</td><td>2.2</td><td>update_preimage</td><td>2</td><td>2024-02-18T02:27:47.000+0000</td></tr><tr><td>3/5/2022</td><td>a</td><td>1</td><td>3.1</td><td>update_postimage</td><td>2</td><td>2024-02-18T02:27:47.000+0000</td></tr><tr><td>3/6/2022</td><td>a</td><td>1</td><td>2.2</td><td>update_preimage</td><td>2</td><td>2024-02-18T02:27:47.000+0000</td></tr><tr><td>3/6/2022</td><td>a</td><td>1</td><td>3.3</td><td>update_postimage</td><td>2</td><td>2024-02-18T02:27:47.000+0000</td></tr></tbody></table></div>"
      ]
     },
     "metadata": {
      "application/vnd.databricks.v1+output": {
       "addedWidgets": {},
       "aggData": [],
       "aggError": "",
       "aggOverflow": false,
       "aggSchema": [],
       "aggSeriesLimitReached": false,
       "aggType": "",
       "arguments": {},
       "columnCustomDisplayInfos": {},
       "data": [
        [
         "3/1/2022",
         "a",
         1,
         2.2,
         "update_preimage",
         2,
         "2024-02-18T02:27:47.000+0000"
        ],
        [
         "3/1/2022",
         "a",
         1,
         2.3,
         "update_postimage",
         2,
         "2024-02-18T02:27:47.000+0000"
        ],
        [
         "3/2/2022",
         "a",
         1,
         2.2,
         "update_preimage",
         2,
         "2024-02-18T02:27:47.000+0000"
        ],
        [
         "3/2/2022",
         "a",
         1,
         2.5,
         "update_postimage",
         2,
         "2024-02-18T02:27:47.000+0000"
        ],
        [
         "3/3/2022",
         "a",
         2,
         2.2,
         "update_preimage",
         2,
         "2024-02-18T02:27:47.000+0000"
        ],
        [
         "3/3/2022",
         "a",
         2,
         2.7,
         "update_postimage",
         2,
         "2024-02-18T02:27:47.000+0000"
        ],
        [
         "3/4/2022",
         "a",
         3,
         2.2,
         "update_preimage",
         2,
         "2024-02-18T02:27:47.000+0000"
        ],
        [
         "3/4/2022",
         "a",
         3,
         2.9,
         "update_postimage",
         2,
         "2024-02-18T02:27:47.000+0000"
        ],
        [
         "3/5/2022",
         "a",
         1,
         2.2,
         "update_preimage",
         2,
         "2024-02-18T02:27:47.000+0000"
        ],
        [
         "3/5/2022",
         "a",
         1,
         3.1,
         "update_postimage",
         2,
         "2024-02-18T02:27:47.000+0000"
        ],
        [
         "3/6/2022",
         "a",
         1,
         2.2,
         "update_preimage",
         2,
         "2024-02-18T02:27:47.000+0000"
        ],
        [
         "3/6/2022",
         "a",
         1,
         3.3,
         "update_postimage",
         2,
         "2024-02-18T02:27:47.000+0000"
        ]
       ],
       "datasetInfos": [],
       "dbfsResultPath": null,
       "isJsonSchema": true,
       "metadata": {},
       "overflow": false,
       "plotOptions": {
        "customPlotOptions": {},
        "displayType": "table",
        "pivotAggregation": null,
        "pivotColumns": null,
        "xColumns": null,
        "yColumns": null
       },
       "removedWidgets": [],
       "schema": [
        {
         "metadata": "{}",
         "name": "date",
         "type": "\"string\""
        },
        {
         "metadata": "{}",
         "name": "stock",
         "type": "\"string\""
        },
        {
         "metadata": "{}",
         "name": "analyst",
         "type": "\"integer\""
        },
        {
         "metadata": "{}",
         "name": "estimated_eps",
         "type": "\"double\""
        },
        {
         "metadata": "{}",
         "name": "_change_type",
         "type": "\"string\""
        },
        {
         "metadata": "{}",
         "name": "_commit_version",
         "type": "\"long\""
        },
        {
         "metadata": "{}",
         "name": "_commit_timestamp",
         "type": "\"timestamp\""
        }
       ],
       "type": "table"
      }
     },
     "output_type": "display_data"
    }
   ],
   "source": [
    "%sql\n",
    "select * from table_changes('silve_m',2) order by date"
   ]
  },
  {
   "cell_type": "code",
   "execution_count": 0,
   "metadata": {
    "application/vnd.databricks.v1+cell": {
     "cellMetadata": {
      "byteLimit": 2048000,
      "implicitDf": true,
      "rowLimit": 10000
     },
     "inputWidgets": {},
     "nuid": "85ffb870-f6ed-474b-bcaf-3494e83b504f",
     "showTitle": false,
     "title": ""
    }
   },
   "outputs": [
    {
     "output_type": "display_data",
     "data": {
      "text/html": [
       "<style scoped>\n",
       "  .table-result-container {\n",
       "    max-height: 300px;\n",
       "    overflow: auto;\n",
       "  }\n",
       "  table, th, td {\n",
       "    border: 1px solid black;\n",
       "    border-collapse: collapse;\n",
       "  }\n",
       "  th, td {\n",
       "    padding: 5px;\n",
       "  }\n",
       "  th {\n",
       "    text-align: left;\n",
       "  }\n",
       "</style><div class='table-result-container'><table class='table-result'><thead style='background-color: white'><tr><th>date</th><th>stock</th><th>concensus_eps</th></tr></thead><tbody><tr><td>3/1/2022</td><td>a</td><td>2.2</td></tr><tr><td>3/2/2022</td><td>a</td><td>2.2</td></tr><tr><td>3/3/2022</td><td>a</td><td>2.2</td></tr><tr><td>3/4/2022</td><td>a</td><td>2.2</td></tr><tr><td>3/5/2022</td><td>a</td><td>2.2</td></tr><tr><td>3/6/2022</td><td>a</td><td>2.2</td></tr></tbody></table></div>"
      ]
     },
     "metadata": {
      "application/vnd.databricks.v1+output": {
       "addedWidgets": {},
       "aggData": [],
       "aggError": "",
       "aggOverflow": false,
       "aggSchema": [],
       "aggSeriesLimitReached": false,
       "aggType": "",
       "arguments": {},
       "columnCustomDisplayInfos": {},
       "data": [
        [
         "3/1/2022",
         "a",
         2.2
        ],
        [
         "3/2/2022",
         "a",
         2.2
        ],
        [
         "3/3/2022",
         "a",
         2.2
        ],
        [
         "3/4/2022",
         "a",
         2.2
        ],
        [
         "3/5/2022",
         "a",
         2.2
        ],
        [
         "3/6/2022",
         "a",
         2.2
        ]
       ],
       "datasetInfos": [],
       "dbfsResultPath": null,
       "isJsonSchema": true,
       "metadata": {},
       "overflow": false,
       "plotOptions": {
        "customPlotOptions": {},
        "displayType": "table",
        "pivotAggregation": null,
        "pivotColumns": null,
        "xColumns": null,
        "yColumns": null
       },
       "removedWidgets": [],
       "schema": [
        {
         "metadata": "{}",
         "name": "date",
         "type": "\"string\""
        },
        {
         "metadata": "{}",
         "name": "stock",
         "type": "\"string\""
        },
        {
         "metadata": "{}",
         "name": "concensus_eps",
         "type": "\"double\""
        }
       ],
       "type": "table"
      }
     },
     "output_type": "display_data"
    }
   ],
   "source": [
    "%sql\n",
    "select * from gold_m order by date"
   ]
  },
  {
   "cell_type": "code",
   "execution_count": 0,
   "metadata": {
    "application/vnd.databricks.v1+cell": {
     "cellMetadata": {
      "byteLimit": 2048000,
      "implicitDf": true,
      "rowLimit": 10000
     },
     "inputWidgets": {},
     "nuid": "496e0585-7a10-4bf3-8d10-fd71b4463b3f",
     "showTitle": true,
     "title": "Merging into silver Table the version 2 update dataset"
    }
   },
   "outputs": [
    {
     "output_type": "display_data",
     "data": {
      "text/html": [
       "<style scoped>\n",
       "  .table-result-container {\n",
       "    max-height: 300px;\n",
       "    overflow: auto;\n",
       "  }\n",
       "  table, th, td {\n",
       "    border: 1px solid black;\n",
       "    border-collapse: collapse;\n",
       "  }\n",
       "  th, td {\n",
       "    padding: 5px;\n",
       "  }\n",
       "  th {\n",
       "    text-align: left;\n",
       "  }\n",
       "</style><div class='table-result-container'><table class='table-result'><thead style='background-color: white'><tr><th>num_affected_rows</th><th>num_updated_rows</th><th>num_deleted_rows</th><th>num_inserted_rows</th></tr></thead><tbody><tr><td>6</td><td>6</td><td>0</td><td>0</td></tr></tbody></table></div>"
      ]
     },
     "metadata": {
      "application/vnd.databricks.v1+output": {
       "addedWidgets": {},
       "aggData": [],
       "aggError": "",
       "aggOverflow": false,
       "aggSchema": [],
       "aggSeriesLimitReached": false,
       "aggType": "",
       "arguments": {},
       "columnCustomDisplayInfos": {},
       "data": [
        [
         6,
         6,
         0,
         0
        ]
       ],
       "datasetInfos": [],
       "dbfsResultPath": null,
       "isJsonSchema": true,
       "metadata": {},
       "overflow": false,
       "plotOptions": {
        "customPlotOptions": {},
        "displayType": "table",
        "pivotAggregation": null,
        "pivotColumns": null,
        "xColumns": null,
        "yColumns": null
       },
       "removedWidgets": [],
       "schema": [
        {
         "metadata": "{}",
         "name": "num_affected_rows",
         "type": "\"long\""
        },
        {
         "metadata": "{}",
         "name": "num_updated_rows",
         "type": "\"long\""
        },
        {
         "metadata": "{}",
         "name": "num_deleted_rows",
         "type": "\"long\""
        },
        {
         "metadata": "{}",
         "name": "num_inserted_rows",
         "type": "\"long\""
        }
       ],
       "type": "table"
      }
     },
     "output_type": "display_data"
    }
   ],
   "source": [
    "%sql\n",
    "Merge into silve_m\n",
    "using\n",
    "(select * from table_changes('bronze_m',3)) as silver_cdf\n",
    "on silver_cdf.date = silve_m.date\n",
    "When matched then\n",
    " update set silve_m.estimated_eps = silver_cdf.estimated_eps\n",
    "When not matched\n",
    " then insert (date, stock, analyst,estimated_eps) values (date, stock, analyst, estimated_eps)\n"
   ]
  },
  {
   "cell_type": "code",
   "execution_count": 0,
   "metadata": {
    "application/vnd.databricks.v1+cell": {
     "cellMetadata": {
      "byteLimit": 2048000,
      "implicitDf": true,
      "rowLimit": 10000
     },
     "inputWidgets": {},
     "nuid": "098c3a0a-7c61-41d1-b6ba-ebb1b9fbe19d",
     "showTitle": true,
     "title": "Finally updating gold table with delta values of estimated earnings/share"
    }
   },
   "outputs": [
    {
     "output_type": "display_data",
     "data": {
      "text/html": [
       "<style scoped>\n",
       "  .table-result-container {\n",
       "    max-height: 300px;\n",
       "    overflow: auto;\n",
       "  }\n",
       "  table, th, td {\n",
       "    border: 1px solid black;\n",
       "    border-collapse: collapse;\n",
       "  }\n",
       "  th, td {\n",
       "    padding: 5px;\n",
       "  }\n",
       "  th {\n",
       "    text-align: left;\n",
       "  }\n",
       "</style><div class='table-result-container'><table class='table-result'><thead style='background-color: white'><tr><th>num_affected_rows</th><th>num_updated_rows</th><th>num_deleted_rows</th><th>num_inserted_rows</th></tr></thead><tbody><tr><td>6</td><td>6</td><td>0</td><td>0</td></tr></tbody></table></div>"
      ]
     },
     "metadata": {
      "application/vnd.databricks.v1+output": {
       "addedWidgets": {},
       "aggData": [],
       "aggError": "",
       "aggOverflow": false,
       "aggSchema": [],
       "aggSeriesLimitReached": false,
       "aggType": "",
       "arguments": {},
       "columnCustomDisplayInfos": {},
       "data": [
        [
         6,
         6,
         0,
         0
        ]
       ],
       "datasetInfos": [],
       "dbfsResultPath": null,
       "isJsonSchema": true,
       "metadata": {},
       "overflow": false,
       "plotOptions": {
        "customPlotOptions": {},
        "displayType": "table",
        "pivotAggregation": null,
        "pivotColumns": null,
        "xColumns": null,
        "yColumns": null
       },
       "removedWidgets": [],
       "schema": [
        {
         "metadata": "{}",
         "name": "num_affected_rows",
         "type": "\"long\""
        },
        {
         "metadata": "{}",
         "name": "num_updated_rows",
         "type": "\"long\""
        },
        {
         "metadata": "{}",
         "name": "num_deleted_rows",
         "type": "\"long\""
        },
        {
         "metadata": "{}",
         "name": "num_inserted_rows",
         "type": "\"long\""
        }
       ],
       "type": "table"
      }
     },
     "output_type": "display_data"
    }
   ],
   "source": [
    "%sql\n",
    "Merge into gold_m\n",
    "using\n",
    "(select silve_m.date,silve_m.stock,Avg(estimated_eps) as concensus_eps\n",
    "from silve_m\n",
    "Inner join (select distinct date, stock from table_changes('silve_m',2)) as silver_cdf\n",
    "on silver_cdf.date = silve_m.date\n",
    "group by silve_m.date,silve_m.stock) as silver_cdf2\n",
    "on silver_cdf2.date = gold_m.date \n",
    "When matched then\n",
    " update set gold_m.concensus_eps = silver_cdf2.concensus_eps\n",
    "When not matched\n",
    " then insert (date, stock, concensus_eps) values (date, stock, concensus_eps)"
   ]
  },
  {
   "cell_type": "code",
   "execution_count": 0,
   "metadata": {
    "application/vnd.databricks.v1+cell": {
     "cellMetadata": {
      "byteLimit": 2048000,
      "implicitDf": true,
      "rowLimit": 10000
     },
     "inputWidgets": {},
     "nuid": "b6936a8f-ed0b-4889-ae37-aad830ba7363",
     "showTitle": true,
     "title": "Gold table with revised valid values"
    }
   },
   "outputs": [
    {
     "output_type": "display_data",
     "data": {
      "text/html": [
       "<style scoped>\n",
       "  .table-result-container {\n",
       "    max-height: 300px;\n",
       "    overflow: auto;\n",
       "  }\n",
       "  table, th, td {\n",
       "    border: 1px solid black;\n",
       "    border-collapse: collapse;\n",
       "  }\n",
       "  th, td {\n",
       "    padding: 5px;\n",
       "  }\n",
       "  th {\n",
       "    text-align: left;\n",
       "  }\n",
       "</style><div class='table-result-container'><table class='table-result'><thead style='background-color: white'><tr><th>date</th><th>stock</th><th>concensus_eps</th></tr></thead><tbody><tr><td>3/1/2022</td><td>a</td><td>2.3</td></tr><tr><td>3/2/2022</td><td>a</td><td>2.5</td></tr><tr><td>3/3/2022</td><td>a</td><td>2.7</td></tr><tr><td>3/4/2022</td><td>a</td><td>2.9</td></tr><tr><td>3/5/2022</td><td>a</td><td>3.1</td></tr><tr><td>3/6/2022</td><td>a</td><td>3.3</td></tr></tbody></table></div>"
      ]
     },
     "metadata": {
      "application/vnd.databricks.v1+output": {
       "addedWidgets": {},
       "aggData": [],
       "aggError": "",
       "aggOverflow": false,
       "aggSchema": [],
       "aggSeriesLimitReached": false,
       "aggType": "",
       "arguments": {},
       "columnCustomDisplayInfos": {},
       "data": [
        [
         "3/1/2022",
         "a",
         2.3
        ],
        [
         "3/2/2022",
         "a",
         2.5
        ],
        [
         "3/3/2022",
         "a",
         2.7
        ],
        [
         "3/4/2022",
         "a",
         2.9
        ],
        [
         "3/5/2022",
         "a",
         3.1
        ],
        [
         "3/6/2022",
         "a",
         3.3
        ]
       ],
       "datasetInfos": [],
       "dbfsResultPath": null,
       "isJsonSchema": true,
       "metadata": {},
       "overflow": false,
       "plotOptions": {
        "customPlotOptions": {},
        "displayType": "table",
        "pivotAggregation": null,
        "pivotColumns": null,
        "xColumns": null,
        "yColumns": null
       },
       "removedWidgets": [],
       "schema": [
        {
         "metadata": "{}",
         "name": "date",
         "type": "\"string\""
        },
        {
         "metadata": "{}",
         "name": "stock",
         "type": "\"string\""
        },
        {
         "metadata": "{}",
         "name": "concensus_eps",
         "type": "\"double\""
        }
       ],
       "type": "table"
      }
     },
     "output_type": "display_data"
    }
   ],
   "source": [
    "%sql\n",
    "select * from gold_m order by date"
   ]
  }
 ],
 "metadata": {
  "application/vnd.databricks.v1+notebook": {
   "dashboards": [],
   "language": "python",
   "notebookMetadata": {
    "mostRecentlyExecutedCommandWithImplicitDF": {
     "commandId": 1979077180230133,
     "dataframes": [
      "_sqldf"
     ]
    },
    "pythonIndentUnit": 4
   },
   "notebookName": "Change Data Feed with Medallion Architecture",
   "widgets": {}
  }
 },
 "nbformat": 4,
 "nbformat_minor": 0
}
