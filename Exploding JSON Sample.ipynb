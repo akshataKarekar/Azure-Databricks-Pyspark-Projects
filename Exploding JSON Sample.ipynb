{
 "cells": [
  {
   "cell_type": "code",
   "execution_count": 0,
   "metadata": {
    "application/vnd.databricks.v1+cell": {
     "cellMetadata": {
      "byteLimit": 2048000,
      "rowLimit": 10000
     },
     "inputWidgets": {},
     "nuid": "951c0e5a-8028-4f8e-9ad6-73c90da3def1",
     "showTitle": false,
     "title": ""
    }
   },
   "outputs": [],
   "source": [
    "json_sample=\"\"\"\n",
    "{\n",
    "\t\"persons\":\n",
    "\t\n",
    "\t[\n",
    "  {\n",
    "    \"id\": 0,\n",
    "    \"name\": \"Nora\",\n",
    "    \"city\": \"New Orleans\",\n",
    "    \"age\": 55,\n",
    "    \"friends\": [\n",
    "      {\n",
    "        \"name\": \"Emma\",\n",
    "        \"hobbies\": [ \"Calligraphy\", \"Television\", \"Music\" ]\n",
    "      },\n",
    "      {\n",
    "        \"name\": \"Lucas\",\n",
    "        \"hobbies\": [ \"Yoga\", \"Playing Cards\" ]\n",
    "      }\n",
    "    ]\n",
    "  },\n",
    "  {\n",
    "    \"id\": 1,\n",
    "    \"name\": \"Mia\",\n",
    "    \"city\": \"New York City\",\n",
    "    \"age\": 26,\n",
    "    \"friends\": [\n",
    "      {\n",
    "        \"name\": \"Elijah\",\n",
    "        \"hobbies\": [ \"Golf\", \"Calligraphy\" ]\n",
    "      },\n",
    "      {\n",
    "        \"name\": \"Grace\",\n",
    "        \"hobbies\": [ \"Walking\", \"Golf\", \"Shopping\" ]\n",
    "      }\n",
    "    ]\n",
    "  },\n",
    "  {\n",
    "    \"id\": 2,\n",
    "    \"name\": \"Luke\",\n",
    "    \"city\": \"Charleston\",\n",
    "    \"age\": 98,\n",
    "    \"friends\": [\n",
    "      {\n",
    "        \"name\": \"Elijah\",\n",
    "        \"hobbies\": [ \"Martial Arts\", \"Calligraphy\", \"Collecting\" ]\n",
    "      },\n",
    "      {\n",
    "        \"name\": \"Michael\",\n",
    "        \"hobbies\": [ \"Watching Sports\", \"Music\", \"Podcasts\" ]\n",
    "      },\n",
    "      {\n",
    "        \"name\": \"Camila\",\n",
    "        \"hobbies\": [ \"Writing\", \"Martial Arts\", \"Music\" ]\n",
    "      }\n",
    "    ]\n",
    "  },\n",
    "  {\n",
    "    \"id\": 3,\n",
    "    \"name\": \"Daniel\",\n",
    "    \"city\": \"Saint Augustine\",\n",
    "    \"age\": 21,\n",
    "    \"friends\": [\n",
    "      {\n",
    "        \"name\": \"Oliver\",\n",
    "        \"hobbies\": [ \"Movie Watching\", \"Playing Cards\" ]\n",
    "      },\n",
    "      {\n",
    "        \"name\": \"Liam\",\n",
    "        \"hobbies\": [ \"Watching Sports\", \"Tennis\", \"Walking\" ]\n",
    "      },\n",
    "      {\n",
    "        \"name\": \"Victoria\",\n",
    "        \"hobbies\": [ \"Genealogy\", \"Socializing\", \"Traveling\" ]\n",
    "      },\n",
    "      {\n",
    "        \"name\": \"Kevin\",\n",
    "        \"hobbies\": [ \"Walking\", \"Tennis\", \"Golf\" ]\n",
    "      },\n",
    "      {\n",
    "        \"name\": \"Michelle\",\n",
    "        \"hobbies\": [ \"Socializing\", \"Fishing\", \"Watching Sports\" ]\n",
    "      }\n",
    "    ]\n",
    "  },\n",
    "  {\n",
    "    \"id\": 4,\n",
    "    \"name\": \"Jack\",\n",
    "    \"city\": \"Las Vegas\",\n",
    "    \"age\": 51,\n",
    "    \"friends\": [\n",
    "      {\n",
    "        \"name\": \"Luke\",\n",
    "        \"hobbies\": [ \"Podcasts\", \"Tennis\", \"Watching Sports\" ]\n",
    "      },\n",
    "      {\n",
    "        \"name\": \"Chris\",\n",
    "        \"hobbies\": [ \"Skiing & Snowboarding\", \"Housework\" ]\n",
    "      }\n",
    "    ]\n",
    "  },\n",
    "  {\n",
    "    \"id\": 5,\n",
    "    \"name\": \"Victoria\",\n",
    "    \"city\": \"Palm Springs\",\n",
    "    \"age\": 21,\n",
    "    \"friends\": [\n",
    "      {\n",
    "        \"name\": \"Michael\",\n",
    "        \"hobbies\": [ \"Gardening\", \"Running\", \"Walking\" ]\n",
    "      },\n",
    "      {\n",
    "        \"name\": \"Nora\",\n",
    "        \"hobbies\": [ \"Fishing\", \"Housework\", \"Shopping\" ]\n",
    "      },\n",
    "      {\n",
    "        \"name\": \"Elijah\",\n",
    "        \"hobbies\": [ \"Podcasts\", \"Walking\" ]\n",
    "      },\n",
    "      {\n",
    "        \"name\": \"Luke\",\n",
    "        \"hobbies\": [ \"Traveling\", \"Socializing\" ]\n",
    "      },\n",
    "      {\n",
    "        \"name\": \"Emma\",\n",
    "        \"hobbies\": [ \"Podcasts\", \"Tennis\", \"Board Games\" ]\n",
    "      },\n",
    "      {\n",
    "        \"name\": \"Oliver\",\n",
    "        \"hobbies\": [ \"Reading\", \"Painting\", \"Shopping\" ]\n",
    "      }\n",
    "    ]\n",
    "  },\n",
    "  {\n",
    "    \"id\": 6,\n",
    "    \"name\": \"Chloe\",\n",
    "    \"city\": \"Los Angeles\",\n",
    "    \"age\": 19,\n",
    "    \"friends\": [\n",
    "      {\n",
    "        \"name\": \"Leo\",\n",
    "        \"hobbies\": [ \"Fishing\", \"Cooking\", \"Dancing\" ]\n",
    "      },\n",
    "      {\n",
    "        \"name\": \"Nora\",\n",
    "        \"hobbies\": [ \"Housework\", \"Video Games\", \"Music\" ]\n",
    "      },\n",
    "      {\n",
    "        \"name\": \"Sarah\",\n",
    "        \"hobbies\": [ \"Board Games\", \"Woodworking\", \"Traveling\" ]\n",
    "      }\n",
    "    ]\n",
    "  },\n",
    "  {\n",
    "    \"id\": 7,\n",
    "    \"name\": \"Isabella\",\n",
    "    \"city\": \"Portland\",\n",
    "    \"age\": 30,\n",
    "    \"friends\": [\n",
    "      {\n",
    "        \"name\": \"Chloe\",\n",
    "        \"hobbies\": [ \"Television\", \"Movie Watching\" ]\n",
    "      },\n",
    "      {\n",
    "        \"name\": \"Grace\",\n",
    "        \"hobbies\": [ \"Calligraphy\", \"Cooking\" ]\n",
    "      },\n",
    "      {\n",
    "        \"name\": \"Chris\",\n",
    "        \"hobbies\": [ \"Reading\", \"Volunteer Work\", \"Watching Sports\" ]\n",
    "      },\n",
    "      {\n",
    "        \"name\": \"Luke\",\n",
    "        \"hobbies\": [ \"Board Games\", \"Walking\" ]\n",
    "      }\n",
    "    ]\n",
    "  },\n",
    "  {\n",
    "    \"id\": 8,\n",
    "    \"name\": \"Olivia\",\n",
    "    \"city\": \"Miami Beach\",\n",
    "    \"age\": 49,\n",
    "    \"friends\": [\n",
    "      {\n",
    "        \"name\": \"Zoey\",\n",
    "        \"hobbies\": [ \"Martial Arts\", \"Watching Sports\", \"Cooking\" ]\n",
    "      },\n",
    "      {\n",
    "        \"name\": \"Grace\",\n",
    "        \"hobbies\": [ \"Golf\", \"Genealogy\", \"Bicycling\" ]\n",
    "      },\n",
    "      {\n",
    "        \"name\": \"Emily\",\n",
    "        \"hobbies\": [ \"Genealogy\", \"Collecting\" ]\n",
    "      },\n",
    "      {\n",
    "        \"name\": \"Sarah\",\n",
    "        \"hobbies\": [ \"Shopping\", \"Socializing\", \"Martial Arts\" ]\n",
    "      },\n",
    "      {\n",
    "        \"name\": \"Emma\",\n",
    "        \"hobbies\": [ \"Yoga\", \"Church Activities\", \"Golf\" ]\n",
    "      }\n",
    "    ]\n",
    "  },\n",
    "  {\n",
    "    \"id\": 9,\n",
    "    \"name\": \"Kevin\",\n",
    "    \"city\": \"Miami Beach\",\n",
    "    \"age\": 39,\n",
    "    \"friends\": [\n",
    "      {\n",
    "        \"name\": \"Mia\",\n",
    "        \"hobbies\": [ \"Jewelry Making\", \"Eating Out\", \"Traveling\" ]\n",
    "      },\n",
    "      {\n",
    "        \"name\": \"Nora\",\n",
    "        \"hobbies\": [ \"Painting\", \"Jewelry Making\" ]\n",
    "      },\n",
    "      {\n",
    "        \"name\": \"Michael\",\n",
    "        \"hobbies\": [ \"Podcasts\", \"Writing\", \"Socializing\" ]\n",
    "      }\n",
    "    ]\n",
    "  }\n",
    "]\n",
    "}\n",
    "\"\"\""
   ]
  },
  {
   "cell_type": "code",
   "execution_count": 0,
   "metadata": {
    "application/vnd.databricks.v1+cell": {
     "cellMetadata": {
      "byteLimit": 2048000,
      "rowLimit": 10000
     },
     "inputWidgets": {},
     "nuid": "1312c323-85d7-4337-9480-ee073add50ca",
     "showTitle": false,
     "title": ""
    }
   },
   "outputs": [
    {
     "output_type": "stream",
     "name": "stdout",
     "output_type": "stream",
     "text": [
      "Wrote 4586 bytes.\nOut[36]: True"
     ]
    }
   ],
   "source": [
    "dbutils.fs.put(\"/tmp/jsonfile.json\",json_sample, True )"
   ]
  },
  {
   "cell_type": "code",
   "execution_count": 0,
   "metadata": {
    "application/vnd.databricks.v1+cell": {
     "cellMetadata": {
      "byteLimit": 2048000,
      "rowLimit": 10000
     },
     "inputWidgets": {},
     "nuid": "18475aba-0dbc-4080-af48-0cf07746a9a3",
     "showTitle": false,
     "title": ""
    }
   },
   "outputs": [],
   "source": [
    "df = spark.read.option(\"multiline\",\"true\").json(\"/tmp/jsonfile.json\")"
   ]
  },
  {
   "cell_type": "code",
   "execution_count": 0,
   "metadata": {
    "application/vnd.databricks.v1+cell": {
     "cellMetadata": {
      "byteLimit": 2048000,
      "rowLimit": 10000
     },
     "inputWidgets": {},
     "nuid": "ccdefcc5-677c-4c61-b221-b4ce426cd6dc",
     "showTitle": false,
     "title": ""
    }
   },
   "outputs": [
    {
     "output_type": "display_data",
     "data": {
      "text/html": [
       "<style scoped>\n",
       "  .table-result-container {\n",
       "    max-height: 300px;\n",
       "    overflow: auto;\n",
       "  }\n",
       "  table, th, td {\n",
       "    border: 1px solid black;\n",
       "    border-collapse: collapse;\n",
       "  }\n",
       "  th, td {\n",
       "    padding: 5px;\n",
       "  }\n",
       "  th {\n",
       "    text-align: left;\n",
       "  }\n",
       "</style><div class='table-result-container'><table class='table-result'><thead style='background-color: white'><tr><th>persons</th></tr></thead><tbody><tr><td>List(List(55, New Orleans, List(List(List(Calligraphy, Television, Music), Emma), List(List(Yoga, Playing Cards), Lucas)), 0, Nora), List(26, New York City, List(List(List(Golf, Calligraphy), Elijah), List(List(Walking, Golf, Shopping), Grace)), 1, Mia), List(98, Charleston, List(List(List(Martial Arts, Calligraphy, Collecting), Elijah), List(List(Watching Sports, Music, Podcasts), Michael), List(List(Writing, Martial Arts, Music), Camila)), 2, Luke), List(21, Saint Augustine, List(List(List(Movie Watching, Playing Cards), Oliver), List(List(Watching Sports, Tennis, Walking), Liam), List(List(Genealogy, Socializing, Traveling), Victoria), List(List(Walking, Tennis, Golf), Kevin), List(List(Socializing, Fishing, Watching Sports), Michelle)), 3, Daniel), List(51, Las Vegas, List(List(List(Podcasts, Tennis, Watching Sports), Luke), List(List(Skiing & Snowboarding, Housework), Chris)), 4, Jack), List(21, Palm Springs, List(List(List(Gardening, Running, Walking), Michael), List(List(Fishing, Housework, Shopping), Nora), List(List(Podcasts, Walking), Elijah), List(List(Traveling, Socializing), Luke), List(List(Podcasts, Tennis, Board Games), Emma), List(List(Reading, Painting, Shopping), Oliver)), 5, Victoria), List(19, Los Angeles, List(List(List(Fishing, Cooking, Dancing), Leo), List(List(Housework, Video Games, Music), Nora), List(List(Board Games, Woodworking, Traveling), Sarah)), 6, Chloe), List(30, Portland, List(List(List(Television, Movie Watching), Chloe), List(List(Calligraphy, Cooking), Grace), List(List(Reading, Volunteer Work, Watching Sports), Chris), List(List(Board Games, Walking), Luke)), 7, Isabella), List(49, Miami Beach, List(List(List(Martial Arts, Watching Sports, Cooking), Zoey), List(List(Golf, Genealogy, Bicycling), Grace), List(List(Genealogy, Collecting), Emily), List(List(Shopping, Socializing, Martial Arts), Sarah), List(List(Yoga, Church Activities, Golf), Emma)), 8, Olivia), List(39, Miami Beach, List(List(List(Jewelry Making, Eating Out, Traveling), Mia), List(List(Painting, Jewelry Making), Nora), List(List(Podcasts, Writing, Socializing), Michael)), 9, Kevin))</td></tr></tbody></table></div>"
      ]
     },
     "metadata": {
      "application/vnd.databricks.v1+output": {
       "addedWidgets": {},
       "aggData": [],
       "aggError": "",
       "aggOverflow": false,
       "aggSchema": [],
       "aggSeriesLimitReached": false,
       "aggType": "",
       "arguments": {},
       "columnCustomDisplayInfos": {},
       "data": [
        [
         [
          [
           55,
           "New Orleans",
           [
            [
             [
              "Calligraphy",
              "Television",
              "Music"
             ],
             "Emma"
            ],
            [
             [
              "Yoga",
              "Playing Cards"
             ],
             "Lucas"
            ]
           ],
           0,
           "Nora"
          ],
          [
           26,
           "New York City",
           [
            [
             [
              "Golf",
              "Calligraphy"
             ],
             "Elijah"
            ],
            [
             [
              "Walking",
              "Golf",
              "Shopping"
             ],
             "Grace"
            ]
           ],
           1,
           "Mia"
          ],
          [
           98,
           "Charleston",
           [
            [
             [
              "Martial Arts",
              "Calligraphy",
              "Collecting"
             ],
             "Elijah"
            ],
            [
             [
              "Watching Sports",
              "Music",
              "Podcasts"
             ],
             "Michael"
            ],
            [
             [
              "Writing",
              "Martial Arts",
              "Music"
             ],
             "Camila"
            ]
           ],
           2,
           "Luke"
          ],
          [
           21,
           "Saint Augustine",
           [
            [
             [
              "Movie Watching",
              "Playing Cards"
             ],
             "Oliver"
            ],
            [
             [
              "Watching Sports",
              "Tennis",
              "Walking"
             ],
             "Liam"
            ],
            [
             [
              "Genealogy",
              "Socializing",
              "Traveling"
             ],
             "Victoria"
            ],
            [
             [
              "Walking",
              "Tennis",
              "Golf"
             ],
             "Kevin"
            ],
            [
             [
              "Socializing",
              "Fishing",
              "Watching Sports"
             ],
             "Michelle"
            ]
           ],
           3,
           "Daniel"
          ],
          [
           51,
           "Las Vegas",
           [
            [
             [
              "Podcasts",
              "Tennis",
              "Watching Sports"
             ],
             "Luke"
            ],
            [
             [
              "Skiing & Snowboarding",
              "Housework"
             ],
             "Chris"
            ]
           ],
           4,
           "Jack"
          ],
          [
           21,
           "Palm Springs",
           [
            [
             [
              "Gardening",
              "Running",
              "Walking"
             ],
             "Michael"
            ],
            [
             [
              "Fishing",
              "Housework",
              "Shopping"
             ],
             "Nora"
            ],
            [
             [
              "Podcasts",
              "Walking"
             ],
             "Elijah"
            ],
            [
             [
              "Traveling",
              "Socializing"
             ],
             "Luke"
            ],
            [
             [
              "Podcasts",
              "Tennis",
              "Board Games"
             ],
             "Emma"
            ],
            [
             [
              "Reading",
              "Painting",
              "Shopping"
             ],
             "Oliver"
            ]
           ],
           5,
           "Victoria"
          ],
          [
           19,
           "Los Angeles",
           [
            [
             [
              "Fishing",
              "Cooking",
              "Dancing"
             ],
             "Leo"
            ],
            [
             [
              "Housework",
              "Video Games",
              "Music"
             ],
             "Nora"
            ],
            [
             [
              "Board Games",
              "Woodworking",
              "Traveling"
             ],
             "Sarah"
            ]
           ],
           6,
           "Chloe"
          ],
          [
           30,
           "Portland",
           [
            [
             [
              "Television",
              "Movie Watching"
             ],
             "Chloe"
            ],
            [
             [
              "Calligraphy",
              "Cooking"
             ],
             "Grace"
            ],
            [
             [
              "Reading",
              "Volunteer Work",
              "Watching Sports"
             ],
             "Chris"
            ],
            [
             [
              "Board Games",
              "Walking"
             ],
             "Luke"
            ]
           ],
           7,
           "Isabella"
          ],
          [
           49,
           "Miami Beach",
           [
            [
             [
              "Martial Arts",
              "Watching Sports",
              "Cooking"
             ],
             "Zoey"
            ],
            [
             [
              "Golf",
              "Genealogy",
              "Bicycling"
             ],
             "Grace"
            ],
            [
             [
              "Genealogy",
              "Collecting"
             ],
             "Emily"
            ],
            [
             [
              "Shopping",
              "Socializing",
              "Martial Arts"
             ],
             "Sarah"
            ],
            [
             [
              "Yoga",
              "Church Activities",
              "Golf"
             ],
             "Emma"
            ]
           ],
           8,
           "Olivia"
          ],
          [
           39,
           "Miami Beach",
           [
            [
             [
              "Jewelry Making",
              "Eating Out",
              "Traveling"
             ],
             "Mia"
            ],
            [
             [
              "Painting",
              "Jewelry Making"
             ],
             "Nora"
            ],
            [
             [
              "Podcasts",
              "Writing",
              "Socializing"
             ],
             "Michael"
            ]
           ],
           9,
           "Kevin"
          ]
         ]
        ]
       ],
       "datasetInfos": [],
       "dbfsResultPath": null,
       "isJsonSchema": true,
       "metadata": {},
       "overflow": false,
       "plotOptions": {
        "customPlotOptions": {},
        "displayType": "table",
        "pivotAggregation": null,
        "pivotColumns": null,
        "xColumns": null,
        "yColumns": null
       },
       "removedWidgets": [],
       "schema": [
        {
         "metadata": "{}",
         "name": "persons",
         "type": "{\"type\":\"array\",\"elementType\":{\"type\":\"struct\",\"fields\":[{\"name\":\"age\",\"type\":\"long\",\"nullable\":true,\"metadata\":{}},{\"name\":\"city\",\"type\":\"string\",\"nullable\":true,\"metadata\":{}},{\"name\":\"friends\",\"type\":{\"type\":\"array\",\"elementType\":{\"type\":\"struct\",\"fields\":[{\"name\":\"hobbies\",\"type\":{\"type\":\"array\",\"elementType\":\"string\",\"containsNull\":true},\"nullable\":true,\"metadata\":{}},{\"name\":\"name\",\"type\":\"string\",\"nullable\":true,\"metadata\":{}}]},\"containsNull\":true},\"nullable\":true,\"metadata\":{}},{\"name\":\"id\",\"type\":\"long\",\"nullable\":true,\"metadata\":{}},{\"name\":\"name\",\"type\":\"string\",\"nullable\":true,\"metadata\":{}}]},\"containsNull\":true}"
        }
       ],
       "type": "table"
      }
     },
     "output_type": "display_data"
    }
   ],
   "source": [
    "display(df)"
   ]
  },
  {
   "cell_type": "code",
   "execution_count": 0,
   "metadata": {
    "application/vnd.databricks.v1+cell": {
     "cellMetadata": {
      "byteLimit": 2048000,
      "implicitDf": true,
      "rowLimit": 10000
     },
     "inputWidgets": {},
     "nuid": "790eea17-df56-4c3a-b3a6-de51f569d0c9",
     "showTitle": false,
     "title": ""
    }
   },
   "outputs": [
    {
     "output_type": "display_data",
     "data": {
      "text/html": [
       "<style scoped>\n",
       "  .table-result-container {\n",
       "    max-height: 300px;\n",
       "    overflow: auto;\n",
       "  }\n",
       "  table, th, td {\n",
       "    border: 1px solid black;\n",
       "    border-collapse: collapse;\n",
       "  }\n",
       "  th, td {\n",
       "    padding: 5px;\n",
       "  }\n",
       "  th {\n",
       "    text-align: left;\n",
       "  }\n",
       "</style><div class='table-result-container'><table class='table-result'><thead style='background-color: white'><tr><th>persons</th></tr></thead><tbody><tr><td>List(List(55, New Orleans, List(List(List(Calligraphy, Television, Music), Emma), List(List(Yoga, Playing Cards), Lucas)), 0, Nora), List(26, New York City, List(List(List(Golf, Calligraphy), Elijah), List(List(Walking, Golf, Shopping), Grace)), 1, Mia), List(98, Charleston, List(List(List(Martial Arts, Calligraphy, Collecting), Elijah), List(List(Watching Sports, Music, Podcasts), Michael), List(List(Writing, Martial Arts, Music), Camila)), 2, Luke), List(21, Saint Augustine, List(List(List(Movie Watching, Playing Cards), Oliver), List(List(Watching Sports, Tennis, Walking), Liam), List(List(Genealogy, Socializing, Traveling), Victoria), List(List(Walking, Tennis, Golf), Kevin), List(List(Socializing, Fishing, Watching Sports), Michelle)), 3, Daniel), List(51, Las Vegas, List(List(List(Podcasts, Tennis, Watching Sports), Luke), List(List(Skiing & Snowboarding, Housework), Chris)), 4, Jack), List(21, Palm Springs, List(List(List(Gardening, Running, Walking), Michael), List(List(Fishing, Housework, Shopping), Nora), List(List(Podcasts, Walking), Elijah), List(List(Traveling, Socializing), Luke), List(List(Podcasts, Tennis, Board Games), Emma), List(List(Reading, Painting, Shopping), Oliver)), 5, Victoria), List(19, Los Angeles, List(List(List(Fishing, Cooking, Dancing), Leo), List(List(Housework, Video Games, Music), Nora), List(List(Board Games, Woodworking, Traveling), Sarah)), 6, Chloe), List(30, Portland, List(List(List(Television, Movie Watching), Chloe), List(List(Calligraphy, Cooking), Grace), List(List(Reading, Volunteer Work, Watching Sports), Chris), List(List(Board Games, Walking), Luke)), 7, Isabella), List(49, Miami Beach, List(List(List(Martial Arts, Watching Sports, Cooking), Zoey), List(List(Golf, Genealogy, Bicycling), Grace), List(List(Genealogy, Collecting), Emily), List(List(Shopping, Socializing, Martial Arts), Sarah), List(List(Yoga, Church Activities, Golf), Emma)), 8, Olivia), List(39, Miami Beach, List(List(List(Jewelry Making, Eating Out, Traveling), Mia), List(List(Painting, Jewelry Making), Nora), List(List(Podcasts, Writing, Socializing), Michael)), 9, Kevin))</td></tr></tbody></table></div>"
      ]
     },
     "metadata": {
      "application/vnd.databricks.v1+output": {
       "addedWidgets": {},
       "aggData": [],
       "aggError": "",
       "aggOverflow": false,
       "aggSchema": [],
       "aggSeriesLimitReached": false,
       "aggType": "",
       "arguments": {},
       "columnCustomDisplayInfos": {},
       "data": [
        [
         [
          [
           55,
           "New Orleans",
           [
            [
             [
              "Calligraphy",
              "Television",
              "Music"
             ],
             "Emma"
            ],
            [
             [
              "Yoga",
              "Playing Cards"
             ],
             "Lucas"
            ]
           ],
           0,
           "Nora"
          ],
          [
           26,
           "New York City",
           [
            [
             [
              "Golf",
              "Calligraphy"
             ],
             "Elijah"
            ],
            [
             [
              "Walking",
              "Golf",
              "Shopping"
             ],
             "Grace"
            ]
           ],
           1,
           "Mia"
          ],
          [
           98,
           "Charleston",
           [
            [
             [
              "Martial Arts",
              "Calligraphy",
              "Collecting"
             ],
             "Elijah"
            ],
            [
             [
              "Watching Sports",
              "Music",
              "Podcasts"
             ],
             "Michael"
            ],
            [
             [
              "Writing",
              "Martial Arts",
              "Music"
             ],
             "Camila"
            ]
           ],
           2,
           "Luke"
          ],
          [
           21,
           "Saint Augustine",
           [
            [
             [
              "Movie Watching",
              "Playing Cards"
             ],
             "Oliver"
            ],
            [
             [
              "Watching Sports",
              "Tennis",
              "Walking"
             ],
             "Liam"
            ],
            [
             [
              "Genealogy",
              "Socializing",
              "Traveling"
             ],
             "Victoria"
            ],
            [
             [
              "Walking",
              "Tennis",
              "Golf"
             ],
             "Kevin"
            ],
            [
             [
              "Socializing",
              "Fishing",
              "Watching Sports"
             ],
             "Michelle"
            ]
           ],
           3,
           "Daniel"
          ],
          [
           51,
           "Las Vegas",
           [
            [
             [
              "Podcasts",
              "Tennis",
              "Watching Sports"
             ],
             "Luke"
            ],
            [
             [
              "Skiing & Snowboarding",
              "Housework"
             ],
             "Chris"
            ]
           ],
           4,
           "Jack"
          ],
          [
           21,
           "Palm Springs",
           [
            [
             [
              "Gardening",
              "Running",
              "Walking"
             ],
             "Michael"
            ],
            [
             [
              "Fishing",
              "Housework",
              "Shopping"
             ],
             "Nora"
            ],
            [
             [
              "Podcasts",
              "Walking"
             ],
             "Elijah"
            ],
            [
             [
              "Traveling",
              "Socializing"
             ],
             "Luke"
            ],
            [
             [
              "Podcasts",
              "Tennis",
              "Board Games"
             ],
             "Emma"
            ],
            [
             [
              "Reading",
              "Painting",
              "Shopping"
             ],
             "Oliver"
            ]
           ],
           5,
           "Victoria"
          ],
          [
           19,
           "Los Angeles",
           [
            [
             [
              "Fishing",
              "Cooking",
              "Dancing"
             ],
             "Leo"
            ],
            [
             [
              "Housework",
              "Video Games",
              "Music"
             ],
             "Nora"
            ],
            [
             [
              "Board Games",
              "Woodworking",
              "Traveling"
             ],
             "Sarah"
            ]
           ],
           6,
           "Chloe"
          ],
          [
           30,
           "Portland",
           [
            [
             [
              "Television",
              "Movie Watching"
             ],
             "Chloe"
            ],
            [
             [
              "Calligraphy",
              "Cooking"
             ],
             "Grace"
            ],
            [
             [
              "Reading",
              "Volunteer Work",
              "Watching Sports"
             ],
             "Chris"
            ],
            [
             [
              "Board Games",
              "Walking"
             ],
             "Luke"
            ]
           ],
           7,
           "Isabella"
          ],
          [
           49,
           "Miami Beach",
           [
            [
             [
              "Martial Arts",
              "Watching Sports",
              "Cooking"
             ],
             "Zoey"
            ],
            [
             [
              "Golf",
              "Genealogy",
              "Bicycling"
             ],
             "Grace"
            ],
            [
             [
              "Genealogy",
              "Collecting"
             ],
             "Emily"
            ],
            [
             [
              "Shopping",
              "Socializing",
              "Martial Arts"
             ],
             "Sarah"
            ],
            [
             [
              "Yoga",
              "Church Activities",
              "Golf"
             ],
             "Emma"
            ]
           ],
           8,
           "Olivia"
          ],
          [
           39,
           "Miami Beach",
           [
            [
             [
              "Jewelry Making",
              "Eating Out",
              "Traveling"
             ],
             "Mia"
            ],
            [
             [
              "Painting",
              "Jewelry Making"
             ],
             "Nora"
            ],
            [
             [
              "Podcasts",
              "Writing",
              "Socializing"
             ],
             "Michael"
            ]
           ],
           9,
           "Kevin"
          ]
         ]
        ]
       ],
       "datasetInfos": [],
       "dbfsResultPath": null,
       "isJsonSchema": true,
       "metadata": {},
       "overflow": false,
       "plotOptions": {
        "customPlotOptions": {},
        "displayType": "table",
        "pivotAggregation": null,
        "pivotColumns": null,
        "xColumns": null,
        "yColumns": null
       },
       "removedWidgets": [],
       "schema": [
        {
         "metadata": "{}",
         "name": "persons",
         "type": "{\"type\":\"array\",\"elementType\":{\"type\":\"struct\",\"fields\":[{\"name\":\"age\",\"type\":\"long\",\"nullable\":true,\"metadata\":{}},{\"name\":\"city\",\"type\":\"string\",\"nullable\":true,\"metadata\":{}},{\"name\":\"friends\",\"type\":{\"type\":\"array\",\"elementType\":{\"type\":\"struct\",\"fields\":[{\"name\":\"hobbies\",\"type\":{\"type\":\"array\",\"elementType\":\"string\",\"containsNull\":true},\"nullable\":true,\"metadata\":{}},{\"name\":\"name\",\"type\":\"string\",\"nullable\":true,\"metadata\":{}}]},\"containsNull\":true},\"nullable\":true,\"metadata\":{}},{\"name\":\"id\",\"type\":\"long\",\"nullable\":true,\"metadata\":{}},{\"name\":\"name\",\"type\":\"string\",\"nullable\":true,\"metadata\":{}}]},\"containsNull\":true}"
        }
       ],
       "type": "table"
      }
     },
     "output_type": "display_data"
    }
   ],
   "source": [
    "%sql\n",
    "select * from personsView"
   ]
  },
  {
   "cell_type": "code",
   "execution_count": 0,
   "metadata": {
    "application/vnd.databricks.v1+cell": {
     "cellMetadata": {
      "byteLimit": 2048000,
      "rowLimit": 10000
     },
     "inputWidgets": {},
     "nuid": "6688bdbd-aac3-474c-be0b-2f24cd27ac2f",
     "showTitle": false,
     "title": ""
    }
   },
   "outputs": [],
   "source": [
    "from pyspark.sql.functions import explode\n",
    "persons = df.select(explode(\"persons\").alias(\"persons\"))"
   ]
  },
  {
   "cell_type": "code",
   "execution_count": 0,
   "metadata": {
    "application/vnd.databricks.v1+cell": {
     "cellMetadata": {
      "byteLimit": 2048000,
      "rowLimit": 10000
     },
     "inputWidgets": {},
     "nuid": "ea97345d-8709-4f46-a525-740f75360bd6",
     "showTitle": false,
     "title": ""
    }
   },
   "outputs": [
    {
     "output_type": "display_data",
     "data": {
      "text/html": [
       "<style scoped>\n",
       "  .table-result-container {\n",
       "    max-height: 300px;\n",
       "    overflow: auto;\n",
       "  }\n",
       "  table, th, td {\n",
       "    border: 1px solid black;\n",
       "    border-collapse: collapse;\n",
       "  }\n",
       "  th, td {\n",
       "    padding: 5px;\n",
       "  }\n",
       "  th {\n",
       "    text-align: left;\n",
       "  }\n",
       "</style><div class='table-result-container'><table class='table-result'><thead style='background-color: white'><tr><th>persons</th></tr></thead><tbody><tr><td>List(55, New Orleans, List(List(List(Calligraphy, Television, Music), Emma), List(List(Yoga, Playing Cards), Lucas)), 0, Nora)</td></tr><tr><td>List(26, New York City, List(List(List(Golf, Calligraphy), Elijah), List(List(Walking, Golf, Shopping), Grace)), 1, Mia)</td></tr><tr><td>List(98, Charleston, List(List(List(Martial Arts, Calligraphy, Collecting), Elijah), List(List(Watching Sports, Music, Podcasts), Michael), List(List(Writing, Martial Arts, Music), Camila)), 2, Luke)</td></tr><tr><td>List(21, Saint Augustine, List(List(List(Movie Watching, Playing Cards), Oliver), List(List(Watching Sports, Tennis, Walking), Liam), List(List(Genealogy, Socializing, Traveling), Victoria), List(List(Walking, Tennis, Golf), Kevin), List(List(Socializing, Fishing, Watching Sports), Michelle)), 3, Daniel)</td></tr><tr><td>List(51, Las Vegas, List(List(List(Podcasts, Tennis, Watching Sports), Luke), List(List(Skiing & Snowboarding, Housework), Chris)), 4, Jack)</td></tr><tr><td>List(21, Palm Springs, List(List(List(Gardening, Running, Walking), Michael), List(List(Fishing, Housework, Shopping), Nora), List(List(Podcasts, Walking), Elijah), List(List(Traveling, Socializing), Luke), List(List(Podcasts, Tennis, Board Games), Emma), List(List(Reading, Painting, Shopping), Oliver)), 5, Victoria)</td></tr><tr><td>List(19, Los Angeles, List(List(List(Fishing, Cooking, Dancing), Leo), List(List(Housework, Video Games, Music), Nora), List(List(Board Games, Woodworking, Traveling), Sarah)), 6, Chloe)</td></tr><tr><td>List(30, Portland, List(List(List(Television, Movie Watching), Chloe), List(List(Calligraphy, Cooking), Grace), List(List(Reading, Volunteer Work, Watching Sports), Chris), List(List(Board Games, Walking), Luke)), 7, Isabella)</td></tr><tr><td>List(49, Miami Beach, List(List(List(Martial Arts, Watching Sports, Cooking), Zoey), List(List(Golf, Genealogy, Bicycling), Grace), List(List(Genealogy, Collecting), Emily), List(List(Shopping, Socializing, Martial Arts), Sarah), List(List(Yoga, Church Activities, Golf), Emma)), 8, Olivia)</td></tr><tr><td>List(39, Miami Beach, List(List(List(Jewelry Making, Eating Out, Traveling), Mia), List(List(Painting, Jewelry Making), Nora), List(List(Podcasts, Writing, Socializing), Michael)), 9, Kevin)</td></tr></tbody></table></div>"
      ]
     },
     "metadata": {
      "application/vnd.databricks.v1+output": {
       "addedWidgets": {},
       "aggData": [],
       "aggError": "",
       "aggOverflow": false,
       "aggSchema": [],
       "aggSeriesLimitReached": false,
       "aggType": "",
       "arguments": {},
       "columnCustomDisplayInfos": {},
       "data": [
        [
         [
          55,
          "New Orleans",
          [
           [
            [
             "Calligraphy",
             "Television",
             "Music"
            ],
            "Emma"
           ],
           [
            [
             "Yoga",
             "Playing Cards"
            ],
            "Lucas"
           ]
          ],
          0,
          "Nora"
         ]
        ],
        [
         [
          26,
          "New York City",
          [
           [
            [
             "Golf",
             "Calligraphy"
            ],
            "Elijah"
           ],
           [
            [
             "Walking",
             "Golf",
             "Shopping"
            ],
            "Grace"
           ]
          ],
          1,
          "Mia"
         ]
        ],
        [
         [
          98,
          "Charleston",
          [
           [
            [
             "Martial Arts",
             "Calligraphy",
             "Collecting"
            ],
            "Elijah"
           ],
           [
            [
             "Watching Sports",
             "Music",
             "Podcasts"
            ],
            "Michael"
           ],
           [
            [
             "Writing",
             "Martial Arts",
             "Music"
            ],
            "Camila"
           ]
          ],
          2,
          "Luke"
         ]
        ],
        [
         [
          21,
          "Saint Augustine",
          [
           [
            [
             "Movie Watching",
             "Playing Cards"
            ],
            "Oliver"
           ],
           [
            [
             "Watching Sports",
             "Tennis",
             "Walking"
            ],
            "Liam"
           ],
           [
            [
             "Genealogy",
             "Socializing",
             "Traveling"
            ],
            "Victoria"
           ],
           [
            [
             "Walking",
             "Tennis",
             "Golf"
            ],
            "Kevin"
           ],
           [
            [
             "Socializing",
             "Fishing",
             "Watching Sports"
            ],
            "Michelle"
           ]
          ],
          3,
          "Daniel"
         ]
        ],
        [
         [
          51,
          "Las Vegas",
          [
           [
            [
             "Podcasts",
             "Tennis",
             "Watching Sports"
            ],
            "Luke"
           ],
           [
            [
             "Skiing & Snowboarding",
             "Housework"
            ],
            "Chris"
           ]
          ],
          4,
          "Jack"
         ]
        ],
        [
         [
          21,
          "Palm Springs",
          [
           [
            [
             "Gardening",
             "Running",
             "Walking"
            ],
            "Michael"
           ],
           [
            [
             "Fishing",
             "Housework",
             "Shopping"
            ],
            "Nora"
           ],
           [
            [
             "Podcasts",
             "Walking"
            ],
            "Elijah"
           ],
           [
            [
             "Traveling",
             "Socializing"
            ],
            "Luke"
           ],
           [
            [
             "Podcasts",
             "Tennis",
             "Board Games"
            ],
            "Emma"
           ],
           [
            [
             "Reading",
             "Painting",
             "Shopping"
            ],
            "Oliver"
           ]
          ],
          5,
          "Victoria"
         ]
        ],
        [
         [
          19,
          "Los Angeles",
          [
           [
            [
             "Fishing",
             "Cooking",
             "Dancing"
            ],
            "Leo"
           ],
           [
            [
             "Housework",
             "Video Games",
             "Music"
            ],
            "Nora"
           ],
           [
            [
             "Board Games",
             "Woodworking",
             "Traveling"
            ],
            "Sarah"
           ]
          ],
          6,
          "Chloe"
         ]
        ],
        [
         [
          30,
          "Portland",
          [
           [
            [
             "Television",
             "Movie Watching"
            ],
            "Chloe"
           ],
           [
            [
             "Calligraphy",
             "Cooking"
            ],
            "Grace"
           ],
           [
            [
             "Reading",
             "Volunteer Work",
             "Watching Sports"
            ],
            "Chris"
           ],
           [
            [
             "Board Games",
             "Walking"
            ],
            "Luke"
           ]
          ],
          7,
          "Isabella"
         ]
        ],
        [
         [
          49,
          "Miami Beach",
          [
           [
            [
             "Martial Arts",
             "Watching Sports",
             "Cooking"
            ],
            "Zoey"
           ],
           [
            [
             "Golf",
             "Genealogy",
             "Bicycling"
            ],
            "Grace"
           ],
           [
            [
             "Genealogy",
             "Collecting"
            ],
            "Emily"
           ],
           [
            [
             "Shopping",
             "Socializing",
             "Martial Arts"
            ],
            "Sarah"
           ],
           [
            [
             "Yoga",
             "Church Activities",
             "Golf"
            ],
            "Emma"
           ]
          ],
          8,
          "Olivia"
         ]
        ],
        [
         [
          39,
          "Miami Beach",
          [
           [
            [
             "Jewelry Making",
             "Eating Out",
             "Traveling"
            ],
            "Mia"
           ],
           [
            [
             "Painting",
             "Jewelry Making"
            ],
            "Nora"
           ],
           [
            [
             "Podcasts",
             "Writing",
             "Socializing"
            ],
            "Michael"
           ]
          ],
          9,
          "Kevin"
         ]
        ]
       ],
       "datasetInfos": [],
       "dbfsResultPath": null,
       "isJsonSchema": true,
       "metadata": {},
       "overflow": false,
       "plotOptions": {
        "customPlotOptions": {},
        "displayType": "table",
        "pivotAggregation": null,
        "pivotColumns": null,
        "xColumns": null,
        "yColumns": null
       },
       "removedWidgets": [],
       "schema": [
        {
         "metadata": "{}",
         "name": "persons",
         "type": "{\"type\":\"struct\",\"fields\":[{\"name\":\"age\",\"type\":\"long\",\"nullable\":true,\"metadata\":{}},{\"name\":\"city\",\"type\":\"string\",\"nullable\":true,\"metadata\":{}},{\"name\":\"friends\",\"type\":{\"type\":\"array\",\"elementType\":{\"type\":\"struct\",\"fields\":[{\"name\":\"hobbies\",\"type\":{\"type\":\"array\",\"elementType\":\"string\",\"containsNull\":true},\"nullable\":true,\"metadata\":{}},{\"name\":\"name\",\"type\":\"string\",\"nullable\":true,\"metadata\":{}}]},\"containsNull\":true},\"nullable\":true,\"metadata\":{}},{\"name\":\"id\",\"type\":\"long\",\"nullable\":true,\"metadata\":{}},{\"name\":\"name\",\"type\":\"string\",\"nullable\":true,\"metadata\":{}}]}"
        }
       ],
       "type": "table"
      }
     },
     "output_type": "display_data"
    }
   ],
   "source": [
    "display(persons)"
   ]
  },
  {
   "cell_type": "code",
   "execution_count": 0,
   "metadata": {
    "application/vnd.databricks.v1+cell": {
     "cellMetadata": {
      "byteLimit": 2048000,
      "rowLimit": 10000
     },
     "inputWidgets": {},
     "nuid": "34e7e3d5-d4b9-461a-8ab4-165b790105ef",
     "showTitle": false,
     "title": ""
    }
   },
   "outputs": [
    {
     "output_type": "stream",
     "name": "stdout",
     "output_type": "stream",
     "text": [
      "+--------+---+---------------+---------------------------------------------------+------------+---------------------------------------+\n|name    |age|city           |friends                                            |Friends_name|hobbies                                |\n+--------+---+---------------+---------------------------------------------------+------------+---------------------------------------+\n|Nora    |55 |New Orleans    |{[Calligraphy, Television, Music], Emma}           |Emma        |[Calligraphy, Television, Music]       |\n|Nora    |55 |New Orleans    |{[Yoga, Playing Cards], Lucas}                     |Lucas       |[Yoga, Playing Cards]                  |\n|Mia     |26 |New York City  |{[Golf, Calligraphy], Elijah}                      |Elijah      |[Golf, Calligraphy]                    |\n|Mia     |26 |New York City  |{[Walking, Golf, Shopping], Grace}                 |Grace       |[Walking, Golf, Shopping]              |\n|Luke    |98 |Charleston     |{[Martial Arts, Calligraphy, Collecting], Elijah}  |Elijah      |[Martial Arts, Calligraphy, Collecting]|\n|Luke    |98 |Charleston     |{[Watching Sports, Music, Podcasts], Michael}      |Michael     |[Watching Sports, Music, Podcasts]     |\n|Luke    |98 |Charleston     |{[Writing, Martial Arts, Music], Camila}           |Camila      |[Writing, Martial Arts, Music]         |\n|Daniel  |21 |Saint Augustine|{[Movie Watching, Playing Cards], Oliver}          |Oliver      |[Movie Watching, Playing Cards]        |\n|Daniel  |21 |Saint Augustine|{[Watching Sports, Tennis, Walking], Liam}         |Liam        |[Watching Sports, Tennis, Walking]     |\n|Daniel  |21 |Saint Augustine|{[Genealogy, Socializing, Traveling], Victoria}    |Victoria    |[Genealogy, Socializing, Traveling]    |\n|Daniel  |21 |Saint Augustine|{[Walking, Tennis, Golf], Kevin}                   |Kevin       |[Walking, Tennis, Golf]                |\n|Daniel  |21 |Saint Augustine|{[Socializing, Fishing, Watching Sports], Michelle}|Michelle    |[Socializing, Fishing, Watching Sports]|\n|Jack    |51 |Las Vegas      |{[Podcasts, Tennis, Watching Sports], Luke}        |Luke        |[Podcasts, Tennis, Watching Sports]    |\n|Jack    |51 |Las Vegas      |{[Skiing & Snowboarding, Housework], Chris}        |Chris       |[Skiing & Snowboarding, Housework]     |\n|Victoria|21 |Palm Springs   |{[Gardening, Running, Walking], Michael}           |Michael     |[Gardening, Running, Walking]          |\n|Victoria|21 |Palm Springs   |{[Fishing, Housework, Shopping], Nora}             |Nora        |[Fishing, Housework, Shopping]         |\n|Victoria|21 |Palm Springs   |{[Podcasts, Walking], Elijah}                      |Elijah      |[Podcasts, Walking]                    |\n|Victoria|21 |Palm Springs   |{[Traveling, Socializing], Luke}                   |Luke        |[Traveling, Socializing]               |\n|Victoria|21 |Palm Springs   |{[Podcasts, Tennis, Board Games], Emma}            |Emma        |[Podcasts, Tennis, Board Games]        |\n|Victoria|21 |Palm Springs   |{[Reading, Painting, Shopping], Oliver}            |Oliver      |[Reading, Painting, Shopping]          |\n+--------+---+---------------+---------------------------------------------------+------------+---------------------------------------+\nonly showing top 20 rows\n\n"
     ]
    }
   ],
   "source": [
    "from pyspark.sql.functions import col\n",
    "det = persons.select(\n",
    "    col(\"persons.name\").alias(\"name\"),\n",
    "    col(\"persons.age\").alias(\"age\"),\n",
    "    col(\"persons.city\").alias(\"city\"),\n",
    "    explode(\"persons.friends\").alias(\"friends\"),\n",
    "    col(\"friends.name\").alias(\"Friends_name\"),\n",
    "    col(\"friends.hobbies\").alias(\"hobbies\")\n",
    ").show(truncate=False)\n"
   ]
  },
  {
   "cell_type": "code",
   "execution_count": 0,
   "metadata": {
    "application/vnd.databricks.v1+cell": {
     "cellMetadata": {
      "byteLimit": 2048000,
      "rowLimit": 10000
     },
     "inputWidgets": {},
     "nuid": "c74d0c44-4dd3-44cd-9b66-553f5849724a",
     "showTitle": false,
     "title": ""
    }
   },
   "outputs": [
    {
     "output_type": "display_data",
     "data": {
      "text/plain": [
       "\u001B[0;31m---------------------------------------------------------------------------\u001B[0m\n",
       "\u001B[0;31mAttributeError\u001B[0m                            Traceback (most recent call last)\n",
       "File \u001B[0;32m<command-3442036342654394>:1\u001B[0m\n",
       "\u001B[0;32m----> 1\u001B[0m df2 \u001B[38;5;241m=\u001B[39m \u001B[43mdet\u001B[49m\u001B[38;5;241;43m.\u001B[39;49m\u001B[43mselect\u001B[49m(col(\u001B[38;5;124m\"\u001B[39m\u001B[38;5;124mname\u001B[39m\u001B[38;5;124m\"\u001B[39m))\u001B[38;5;241m.\u001B[39mshow()\n",
       "\n",
       "\u001B[0;31mAttributeError\u001B[0m: 'NoneType' object has no attribute 'select'"
      ]
     },
     "metadata": {
      "application/vnd.databricks.v1+output": {
       "arguments": {},
       "data": "\u001B[0;31m---------------------------------------------------------------------------\u001B[0m\n\u001B[0;31mAttributeError\u001B[0m                            Traceback (most recent call last)\nFile \u001B[0;32m<command-3442036342654394>:1\u001B[0m\n\u001B[0;32m----> 1\u001B[0m df2 \u001B[38;5;241m=\u001B[39m \u001B[43mdet\u001B[49m\u001B[38;5;241;43m.\u001B[39;49m\u001B[43mselect\u001B[49m(col(\u001B[38;5;124m\"\u001B[39m\u001B[38;5;124mname\u001B[39m\u001B[38;5;124m\"\u001B[39m))\u001B[38;5;241m.\u001B[39mshow()\n\n\u001B[0;31mAttributeError\u001B[0m: 'NoneType' object has no attribute 'select'",
       "errorSummary": "<span class='ansi-red-fg'>AttributeError</span>: 'NoneType' object has no attribute 'select'",
       "errorTraceType": "ansi",
       "metadata": {},
       "type": "ipynbError"
      }
     },
     "output_type": "display_data"
    }
   ],
   "source": [
    "df2 = det.select(col(\"name\")).show()"
   ]
  }
 ],
 "metadata": {
  "application/vnd.databricks.v1+notebook": {
   "dashboards": [],
   "language": "python",
   "notebookMetadata": {
    "mostRecentlyExecutedCommandWithImplicitDF": {
     "commandId": -1,
     "dataframes": [
      "_sqldf"
     ]
    },
    "pythonIndentUnit": 4
   },
   "notebookName": "Exploding JSON Sample",
   "widgets": {}
  }
 },
 "nbformat": 4,
 "nbformat_minor": 0
}
